{
 "cells": [
  {
   "cell_type": "markdown",
   "metadata": {},
   "source": [
    "# Machine Learning LAB 7: CLUSTERING - K-means and DBSCAN\n",
    "\n",
    "Course 2024/25: *F. Chiariotti*\n",
    "\n",
    "The notebook contains some simple tasks about **CLUSTERING**.\n",
    "\n",
    "Complete all the **required code sections**.\n",
    "\n",
    "### IMPORTANT for the exam:\n",
    "\n",
    "The functions you might be required to implement in the exam will have the same signature and parameters as the ones in the labs"
   ]
  },
  {
   "cell_type": "markdown",
   "metadata": {},
   "source": [
    "## Image segmentation with k-means\n",
    "\n",
    "In this laboratory we will use the k-means algorithm to cluster a dataset of 3D points. We will apply **K-means** to the problem of image compression and image segmentation. The main idea is to apply k-means to the colors of the pixels of an image to select the k most representative colors. Then, we will replace each pixel color with the closest representative color. This will allow us to reduce the number of colors in the image and compress it. A color is a vector of 3 values (R,G,B) that represent the amount of red, green and blue in the color; this implies that each pixel is a point in a 3D space.\n",
    "\n",
    "In particular you are going to implement the k-means algorithm from scratch and to compare the results with the implementation already present in the sklearn library.\n",
    "\n",
    "In the second part of the laboratory we will use a **linkage-based** clustering algorithm to cluster a dataset of 2D points and compare it with the results obtained with k-means.\n",
    "\n",
    "---"
   ]
  },
  {
   "cell_type": "markdown",
   "metadata": {},
   "source": [
    "## Import all the necessary Python libraries"
   ]
  },
  {
   "cell_type": "code",
   "execution_count": null,
   "metadata": {},
   "outputs": [],
   "source": [
    "%matplotlib inline  \n",
    "\n",
    "import numpy as np\n",
    "import typing as tp\n",
    "import matplotlib.pyplot as plt\n",
    "from sklearn import metrics\n",
    "from sklearn.cluster import KMeans, AgglomerativeClustering\n",
    "from matplotlib import pyplot as plt\n",
    "\n",
    "np.random.seed(20)"
   ]
  },
  {
   "cell_type": "markdown",
   "metadata": {},
   "source": [
    "---"
   ]
  },
  {
   "cell_type": "markdown",
   "metadata": {},
   "source": [
    "## Define the heplper functions\n",
    "\n",
    "In this section you will find some helper functions (some already implemented, some to be implemented by you) that will be used in the following sections.\n",
    "1. `img_plot` -> function to plot an image with name and dimension as title,\n",
    "2. `scatter_plot` -> function to plot a scatter plot of the data,\n",
    "3. `scatter_plot_2d` -> function to plot a 2D scatter plot of the data,\n",
    "4. `error_plot` -> function to plot the error of the k-means algorithm over the iterations,\n",
    "5. `cluster_plot` -> function to plot the obtained clusters.\n",
    "\n",
    "**DO NOT CHANGE THE PRE-WRITTEN CODE UNLESS OTHERWISE SPECIFIED**"
   ]
  },
  {
   "cell_type": "code",
   "execution_count": null,
   "metadata": {},
   "outputs": [],
   "source": [
    "def img_plot(img: np.ndarray, title: str = None) -> None:\n",
    "    \"\"\"\n",
    "    Plot an image\n",
    "    :param img: image to plot\n",
    "    :param title: title of the plot\n",
    "    \"\"\"\n",
    "    \n",
    "    plt.figure()\n",
    "    plt.imshow(img)\n",
    "    plt.axis('off')\n",
    "    if title is not None:\n",
    "        plt.title(f'{title}: {img.shape}')\n",
    "    plt.tight_layout()\n",
    "    plt.show()\n",
    "    plt.close()"
   ]
  },
  {
   "cell_type": "code",
   "execution_count": null,
   "metadata": {},
   "outputs": [],
   "source": [
    "def scatter_plot(data: np.ndarray, clusters: np.ndarray = None, centers: np.ndarray = None, title: str = None) -> None:\n",
    "    \"\"\"\n",
    "    Plot a scatter plot of the data\n",
    "    :param data: data to plot\n",
    "    :param clusters: cluster labels\n",
    "    :param centers: cluster centers\n",
    "    :param title: title of the plot\n",
    "    \"\"\"\n",
    "    \n",
    "    fig = plt.figure()\n",
    "    axis = fig.add_subplot(1, 1, 1, projection=\"3d\")\n",
    "    axis.set_xlabel(\"Red\")\n",
    "    axis.set_ylabel(\"Green\")\n",
    "    axis.set_zlabel(\"Blue\", rotation=90, labelpad=-1)\n",
    "    if title is not None:\n",
    "        plt.title(title)\n",
    "    if clusters is None:\n",
    "        axis.scatter(data[:,0], data[:,1], data[:,2], marker=\"o\", c=data, s=5)\n",
    "    else:\n",
    "        axis.scatter(data[:,0], data[:,1], data[:,2], marker=\"o\", c=clusters, s=1, cmap='viridis', zorder=0, alpha=0.5 )\n",
    "    if centers is not None:\n",
    "        axis.scatter(centers[:,0], centers[:,1], centers[:,2], c='red', s=400, zorder=10)\n",
    "    plt.tight_layout()\n",
    "    plt.show()\n",
    "    plt.close()"
   ]
  },
  {
   "cell_type": "code",
   "execution_count": null,
   "metadata": {},
   "outputs": [],
   "source": [
    "def scatter_plot_2d(x: np.ndarray, y: np.ndarray = None, centers: np.ndarray = None, title: str = None) -> None:\n",
    "    \"\"\"\n",
    "    Plot a scatter plot of the data\n",
    "    :param x: data to plot\n",
    "    :param y: cluster labels\n",
    "    :param centers: cluster centers\n",
    "    :param title: title of the plot\n",
    "    \"\"\"\n",
    "\n",
    "    fig = plt.figure()\n",
    "    plt.scatter(x[:,0], x[:,1], c=y, marker=\"o\", s=10, cmap='viridis')\n",
    "    plt.scatter(centers[:,0], centers[:,1], c='black', s=200, alpha=0.5)\n",
    "    if title is not None:\n",
    "        plt.title(title)\n",
    "    plt.tight_layout()\n",
    "    plt.show()\n",
    "    plt.close()"
   ]
  },
  {
   "cell_type": "code",
   "execution_count": null,
   "metadata": {},
   "outputs": [],
   "source": [
    "def error_plot(errors: np.ndarray, labels: np.ndarray = None) -> None:\n",
    "    \"\"\"\n",
    "    Plot the errors over the iterations\n",
    "    :param errors: errors to plot\n",
    "    \"\"\"\n",
    "    \n",
    "    if labels is None:\n",
    "        plt.plot(errors[1:-1])\n",
    "        plt.plot(errors[1:-1], 'ro')\n",
    "    else:\n",
    "        plt.plot(labels, errors)\n",
    "        plt.plot(labels, errors, 'ro')\n",
    "    plt.title('Error over iterations')\n",
    "    plt.ylabel('Error')\n",
    "    plt.xlabel('Iteration #')\n",
    "    plt.grid()\n",
    "    plt.tight_layout()\n",
    "    plt.show()\n",
    "    plt.close()"
   ]
  },
  {
   "cell_type": "code",
   "execution_count": null,
   "metadata": {},
   "outputs": [],
   "source": [
    "def cluster_plot(labels: np.ndarray, x: np.ndarray, title: str = None) -> None:\n",
    "    \"\"\"\n",
    "    Plot the clusters\n",
    "    :param labels: cluster labels\n",
    "    :param x: data\n",
    "    :param title: title of the plot\n",
    "    \"\"\"\n",
    "    \n",
    "    # Black removed and is used for noise instead.\n",
    "    unique_labels = set(labels)\n",
    "    colors = [plt.cm.Spectral(each)\n",
    "            for each in np.linspace(0, 1, len(unique_labels))]\n",
    "    for k, col in zip(unique_labels, colors):\n",
    "        if k == -1:\n",
    "            # Black used for noise.\n",
    "            col = [0, 0, 0, 1]\n",
    "\n",
    "        class_member_mask = (labels == k)\n",
    "\n",
    "        xy = x[class_member_mask ]\n",
    "        plt.plot(xy[:, 0], xy[:, 1], 'o', markerfacecolor=tuple(col),\n",
    "                markeredgecolor='k', markersize=14)\n",
    "\n",
    "        xy = x[class_member_mask ]\n",
    "        plt.plot(xy[:, 0], xy[:, 1], 'o', markerfacecolor=tuple(col),\n",
    "                markeredgecolor='k', markersize=6)\n",
    "\n",
    "    if title is not None:\n",
    "        plt.title(title)\n",
    "    plt.tight_layout()\n",
    "    plt.show()"
   ]
  },
  {
   "cell_type": "markdown",
   "metadata": {},
   "source": [
    "---"
   ]
  },
  {
   "cell_type": "markdown",
   "metadata": {},
   "source": [
    "## A) K-means clustering\n",
    "\n",
    "Implement the K-means algorithm"
   ]
  },
  {
   "cell_type": "code",
   "execution_count": null,
   "metadata": {},
   "outputs": [],
   "source": [
    "# Load the provided image and display it (if you like you can experiment with other images)\n",
    "# To load the images use the function plt.imread(<path_to_iamge>)\n",
    "santa = plt.imread(\"data/santaclaus2.jpg\")\n",
    "\n",
    "# Plot the image with its shape\n",
    "img_plot(santa)\n",
    "print(santa.shape)"
   ]
  },
  {
   "cell_type": "code",
   "execution_count": null,
   "metadata": {},
   "outputs": [],
   "source": [
    "# Reshape the data to a matrix of num_pixels x 3 \n",
    "# (divide by 255 to have colors in [0 1] range for plotting functions of sklearn)\n",
    "santa_reshaped = np.reshape(santa, (santa.shape[0]*santa.shape[1],santa.shape[2]))\n",
    "santa_reshaped = santa_reshaped /255\n",
    "\n",
    "# Print the shape of the data and the min and max values of the pixels\n",
    "print(\"shape:\",santa_reshaped.shape, \"min:\", np.min(santa_reshaped),\"max:\", np.max(santa_reshaped))"
   ]
  },
  {
   "cell_type": "markdown",
   "metadata": {},
   "source": [
    "Plot the points in the 3-dimensional space with normalized intervals between 0 and 1 (corresponding to the three channels of the image, i.e. Red Green and Blue)"
   ]
  },
  {
   "cell_type": "code",
   "execution_count": null,
   "metadata": {},
   "outputs": [],
   "source": [
    "# Sugestion: use the function scatter_plot()\n",
    "scatter_plot(santa_reshaped)"
   ]
  },
  {
   "cell_type": "markdown",
   "metadata": {},
   "source": [
    "Implement the k-means algorithm manually (**do not use the kmeans function of sklearn and do not download implementations from other web sources**). The inputs to the function is the set of vectors to be clustered and the number of clusters. The output must contain the clusters barycenters, a vector associating each data point to the corresponding cluster and the error (value of the cost function) at each iteration.\n",
    "Additionally, fix a maximum number of iterations of the k-means algorithm (e.g., 50).\n",
    "\n",
    "Be careful about the initalization, you can use some random points from the training set, or get random values but ensure they are in the proper range. Poor initalizations can lead to the failure of the algorithm (in particular check that no cluster is initialized as empty, otherwise the algorithm can not update it)."
   ]
  },
  {
   "cell_type": "code",
   "execution_count": null,
   "metadata": {},
   "outputs": [],
   "source": [
    "def kmeans(points: np.ndarray, k: int, max_iters: int = 50) -> tp.Tuple[np.ndarray, np.ndarray, list]:\n",
    "    \"\"\"\n",
    "    Perform K-means clustering\n",
    "    :param points: data points\n",
    "    :param k: number of clusters\n",
    "    :param max_iters: maximum number of iterations\n",
    "    \"\"\"\n",
    "\n",
    "    # TODOGenerate random centroids\n",
    "    # Hint: Use the correct means and standard deviation to ensure they represent the whole input space\n",
    "    point_count = points.shape[0]\n",
    "    coord_count = points.shape[1]\n",
    "    \n",
    "    clusters = np.ndarray((point_count,))\n",
    "    \n",
    "    prev_error = 1e9+1\n",
    "    error = [1e9]\n",
    "    \n",
    "    # Run the K-means algorithm: until the estimate of centroid is stable (or the maximum number of iterations is reached)\n",
    "    iters = 0\n",
    "    while (error[iters] != prev_error) and iters < max_iters:\n",
    "        # TODO Measure the distance to every centroid\n",
    "        # TODO Step 1: assign training data to closest centroid\n",
    "\n",
    "        # TODO Calculate the new centroids for every cluster \n",
    "            \n",
    "        prev_error = error[iters]\n",
    "        current_error = 0 \n",
    "        # TODO Update the total cost estimate\n",
    "        error.append(current_error)\n",
    "        \n",
    "        # Update the iteration counter\n",
    "        iters += 1\n",
    "\n",
    "    return centroids, clusters, error"
   ]
  },
  {
   "cell_type": "markdown",
   "metadata": {},
   "source": [
    "Now try the function you developed on the Santaclaus image with three clusters (k=3), then plot the data points in the 3-dimensional space, each point must be coloured based on the membership to one of the clusters. Additionally, plot the respective clusters centroids (use a different shape, size or color to highlight the centroids). Also, plot the total cost over each iteration"
   ]
  },
  {
   "cell_type": "code",
   "execution_count": null,
   "metadata": {},
   "outputs": [],
   "source": [
    "# Run your K-means function on the data\n",
    "kmeans_centroids, kmeans_clusters, kmeans_errors = kmeans(santa_reshaped, k=3)\n",
    "\n",
    "# Print the errors:\n",
    "print(kmeans_errors)\n",
    "\n",
    "# Plot the results\n",
    "scatter_plot(santa_reshaped, kmeans_clusters, kmeans_centroids)\n",
    "\n",
    "# Plot the error\n",
    "error_plot(kmeans_errors)"
   ]
  },
  {
   "cell_type": "markdown",
   "metadata": {},
   "source": [
    "Now use the k-means function provided in sklearn. Pass to the function the number of clusters and use multiple random initializations (n_init parameter). Go to the documentation page for further details"
   ]
  },
  {
   "cell_type": "code",
   "execution_count": null,
   "metadata": {},
   "outputs": [],
   "source": [
    "# Define the K-means model\n",
    "km = KMeans(n_clusters=3,n_init=100)\n",
    "\n",
    "# Fit the model to the data\n",
    "santa_predicted = km.fit_predict(santa_reshaped)\n",
    "santa_reshaped_compressed = np.copy(santa_reshaped)\n",
    "for i in range(santa_reshaped_compressed.shape[0]):\n",
    "    santa_reshaped_compressed[i]=km.cluster_centers_[santa_predicted[i]]\n",
    "\n",
    "# Get the cluster centers\n",
    "centers = km.cluster_centers_"
   ]
  },
  {
   "cell_type": "markdown",
   "metadata": {
    "slideshow": {
     "slide_type": ""
    },
    "tags": []
   },
   "source": [
    "Perform the same plot as above but with the output of the k-means function provided in sklearn."
   ]
  },
  {
   "cell_type": "code",
   "execution_count": null,
   "metadata": {},
   "outputs": [],
   "source": [
    "scatter_plot(santa_reshaped, santa_predicted, centers)"
   ]
  },
  {
   "cell_type": "markdown",
   "metadata": {},
   "source": [
    "### TO DO [Answer the following] \n",
    "\n",
    "Compare the results obtained with your implementation and with k-means from sklearn. Do you observe any differences, *i.e.*, do the two plots match?"
   ]
  },
  {
   "cell_type": "markdown",
   "metadata": {},
   "source": [
    "**ANSWER:** "
   ]
  },
  {
   "cell_type": "markdown",
   "metadata": {},
   "source": [
    "Now display the segmented image based on the clusters found above with the k-means functions by sklearn and by your own K-means implementation."
   ]
  },
  {
   "cell_type": "code",
   "execution_count": null,
   "metadata": {},
   "outputs": [],
   "source": [
    "# Extract the color values of the centers\n",
    "color_centers = centers*255\n",
    "\n",
    "# Reshape the data to the original image shape\n",
    "santa_processed = np.reshape(santa_reshaped_compressed, santa.shape)\n",
    "\n",
    "# Plot the recolored image\n",
    "img_plot(santa_processed)\n",
    "\n",
    "# Extract the color values of the centers\n",
    "kmeans_color_centers = kmeans_centroids*255\n",
    "\n",
    "# Reshape the data to the original image shape\n",
    "kmeans_santa_reshaped_compressed = np.copy(santa_reshaped)\n",
    "for i in range(kmeans_santa_reshaped_compressed.shape[0]):\n",
    "    kmeans_santa_reshaped_compressed[i]=kmeans_centroids[int(kmeans_clusters[i])]\n",
    "kmeans_santa_processed = np.reshape(kmeans_santa_reshaped_compressed, santa.shape)\n",
    "\n",
    "# Plot the recolored image\n",
    "img_plot(kmeans_santa_processed)"
   ]
  },
  {
   "cell_type": "markdown",
   "metadata": {},
   "source": [
    "## B) DBSCAN clustering\n",
    "\n",
    "Now, let's try DBSCAN: implement the algorithm with $\\varepsilon=0.1$ and $M=10$ (i.e., the minimum number of neighbors). The output should be a list of indices for all points, indicating which cluster each point belongs to. Outliers are in cluster 0, all other points have a positive index. For efficiency, we should compute a distance matrix first. Additionally, since DBSCAN is much more complex, we will try it on a smaller dataset"
   ]
  },
  {
   "cell_type": "code",
   "execution_count": null,
   "metadata": {},
   "outputs": [],
   "source": [
    "# Load sample data\n",
    "data = np.load(\"data/moon_data.npz\")\n",
    "\n",
    "# Extract data\n",
    "x = data['X']\n",
    "print(x)\n",
    "labels_true = data['labels_true']"
   ]
  },
  {
   "cell_type": "code",
   "execution_count": null,
   "metadata": {},
   "outputs": [],
   "source": [
    "def distance_matrix(points):\n",
    "    point_count = points.shape[0]\n",
    "    distances = np.zeros((point_count, point_count))\n",
    "    for i in range(point_count):\n",
    "        array_points = np.asarray(points - points[i, :])\n",
    "        distances[i, :] = np.linalg.norm(array_points,axis=1)\n",
    "        distances[i,i] = 1e9\n",
    "    return distances\n",
    "\n",
    "\n",
    "def find_neighbors(distances, epsilon):\n",
    "    return np.where(distances < epsilon)[0]\n",
    "\n",
    "\n",
    "def dbscan(points, epsilon, M):\n",
    "    point_count = points.shape[0]\n",
    "    coord_count = points.shape[1]\n",
    "    distances = distance_matrix(points)\n",
    "    print(point_count)\n",
    "    C = 0\n",
    "    done = False\n",
    "    # The clusters vector contains the assigned cluster values: -1 means unassigned, 0 means outlier, clusters have >=1 values\n",
    "    clusters = -np.ones(point_count)\n",
    "    while (not done):\n",
    "        # TODO While there are still unassigned points, iterate over them\n",
    "        # For each unassigned point, check if it is an outlier, expand over its neighbors if it is not                   \n",
    "    return clusters"
   ]
  },
  {
   "cell_type": "markdown",
   "metadata": {},
   "source": [
    "Let's try and plot it! Noise points will be in red. How do the clusters look like?"
   ]
  },
  {
   "cell_type": "code",
   "execution_count": null,
   "metadata": {},
   "outputs": [],
   "source": [
    "clusters = dbscan(x, epsilon=0.1, M=10)\n",
    "cluster_plot(clusters,x)"
   ]
  },
  {
   "cell_type": "markdown",
   "metadata": {},
   "source": [
    "---"
   ]
  }
 ],
 "metadata": {
  "kernelspec": {
   "display_name": "Python 3 (ipykernel)",
   "language": "python",
   "name": "python3"
  },
  "language_info": {
   "codemirror_mode": {
    "name": "ipython",
    "version": 3
   },
   "file_extension": ".py",
   "mimetype": "text/x-python",
   "name": "python",
   "nbconvert_exporter": "python",
   "pygments_lexer": "ipython3",
   "version": "3.11.7"
  }
 },
 "nbformat": 4,
 "nbformat_minor": 4
}
