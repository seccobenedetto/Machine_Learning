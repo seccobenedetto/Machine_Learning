{
 "cells": [
  {
   "cell_type": "markdown",
   "metadata": {},
   "source": [
    "# Machine Learning LAB 6: CLASSIFICATION - Characters Classification with Neural Networks\n",
    "\n",
    "Course 2024/25: *F. Chiariotti*\n",
    "\n",
    "The notebook contains some simple tasks about **CLASSIFICATION**.\n",
    "\n",
    "Complete all the **required code sections**.\n",
    "\n",
    "### IMPORTANT for the exam:\n",
    "\n",
    "The functions you might be required to implement in the exam will have the same signature and parameters as the ones in the labs"
   ]
  },
  {
   "cell_type": "markdown",
   "metadata": {},
   "source": [
    "## Characters Classification with Neural Networks\n",
    "\n",
    "In this notebook we are going to use the **Neural Networks** for image classification. We are going to use a dataset of traditional japanese handwritten kana: [*Kuzushiji-MNIST*](https://github.com/rois-codh/kmnist) (or *K-MNIST* for short).\n",
    "\n",
    "The dataset labels are the following:\n",
    "\n",
    "| Label | Hiragana Character | Romanji (Pronunciation) |\n",
    "| :-: | :-: | :-: |\n",
    "|   0   | お | o |\n",
    "| 1 | き | ki |\n",
    "| 2 | す | su |\n",
    "| 3 | つ | tsu |\n",
    "| 4 | な | na |\n",
    "| 5 | は | ha |\n",
    "| 6 | ま | ma |\n",
    "| 7 | や | ya |\n",
    "| 8 | れ | re |\n",
    "| 9 | を | wo |\n",
    "\n",
    "---"
   ]
  },
  {
   "cell_type": "markdown",
   "metadata": {},
   "source": [
    "---"
   ]
  },
  {
   "cell_type": "markdown",
   "metadata": {},
   "source": [
    "## Import all the necessary Python libraries"
   ]
  },
  {
   "cell_type": "code",
   "execution_count": 1,
   "metadata": {},
   "outputs": [],
   "source": [
    "%matplotlib inline  \n",
    "\n",
    "import os\n",
    "import gzip\n",
    "from time import time\n",
    "from copy import deepcopy as cp\n",
    "import typing as tp\n",
    "import numpy as np\n",
    "import matplotlib.pyplot as plt\n",
    "import seaborn as sns\n",
    "import operator\n",
    "import sklearn\n",
    "from sklearn.neural_network import MLPClassifier\n",
    "from sklearn.model_selection import GridSearchCV\n",
    "from sklearn.metrics import confusion_matrix\n",
    "from sklearn.exceptions import ConvergenceWarning\n",
    "\n",
    "import warnings\n",
    "warnings.filterwarnings(\"ignore\", category=ConvergenceWarning)"
   ]
  },
  {
   "cell_type": "markdown",
   "metadata": {},
   "source": [
    "---"
   ]
  },
  {
   "cell_type": "markdown",
   "metadata": {},
   "source": [
    "## Define the helper functions\n",
    "\n",
    "In this section you will find some helper functions (some already implemented, some to be implemented by you) that will be used in the following sections.\n",
    "1. `load_mnist` -> function to load the K-MNIST dataset,\n",
    "2. `plot_input` -> function to plot the input image,\n",
    "3. `param_count`-> function to compute the number of learnable parameters of a MLP given the size of its hidden layers,\n",
    "4. `plot_accuracies` -> function to plot the accuracies of the MLP,\n",
    "5. `plot_losses` -> function to plot the losses of the MLP,\n",
    "6. `plot_conf_matrix` -> function to plot the confusion matrix of the MLP.\n",
    "\n",
    "**DO NOT CHANGE THE PRE-WRITTEN CODE UNLESS OTHERWISE SPECIFIED**"
   ]
  },
  {
   "cell_type": "code",
   "execution_count": 2,
   "metadata": {},
   "outputs": [],
   "source": [
    "def load_mnist(path: str, kind: str = 'train') -> tp.Tuple[np.ndarray, np.ndarray]:\n",
    "    # Define the path to the data\n",
    "    labels_path = os.path.join(path, 'K%s-labels-idx1-ubyte.gz' % kind)\n",
    "    images_path = os.path.join(path, 'K%s-images-idx3-ubyte.gz' % kind)\n",
    "    \n",
    "    # Load the data into numpy arrays (from the gzip files)\n",
    "    with gzip.open(labels_path, 'rb') as lbpath:\n",
    "        labels = np.frombuffer(lbpath.read(), dtype=np.uint8,offset=8)\n",
    "    with gzip.open(images_path, 'rb') as imgpath:\n",
    "        images = np.frombuffer(imgpath.read(), dtype=np.uint8,offset=16).reshape(len(labels), 784)\n",
    "    \n",
    "    return images, labels"
   ]
  },
  {
   "cell_type": "code",
   "execution_count": 3,
   "metadata": {},
   "outputs": [],
   "source": [
    "#function for plotting a image and printing the corresponding label\n",
    "def plot_input(data: np.ndarray, labels: np.array, index) -> None:\n",
    "    if type(index) == int:\n",
    "        index = [index]\n",
    "    \n",
    "    _, ax = plt.subplots(1, len(index))\n",
    "\n",
    "    if type(ax) != np.ndarray:\n",
    "        ax = [ax]\n",
    "\n",
    "    for i, ax in enumerate(ax):\n",
    "        ax.imshow(\n",
    "            data[i].reshape(28, 28),\n",
    "            cmap=plt.cm.gray_r,\n",
    "            interpolation=\"nearest\"\n",
    "        )\n",
    "        ax.set_title(\"Label: %i\" % labels[i], fontsize = 10, color = \"white\")\n",
    "        ax.set_xticks([])\n",
    "        ax.set_yticks([])\n",
    "    plt.tight_layout()\n",
    "    plt.show()\n",
    "    plt.close()"
   ]
  },
  {
   "cell_type": "code",
   "execution_count": 4,
   "metadata": {},
   "outputs": [],
   "source": [
    "def param_count(hl_size: int, x: np.ndarray, y: np.ndarray) -> int:\n",
    "    tot = 0\n",
    "    input_size, output_size = x.shape[1], len(y)\n",
    "    tot += (input_size+1)*hl_size[0]\n",
    "    for i in range(1,len(hl_size)):\n",
    "        tot += (hl_size[i-1]+1)*hl_size[i]\n",
    "    tot += (hl_size[-1]+1)*output_size\n",
    "    return tot"
   ]
  },
  {
   "cell_type": "code",
   "execution_count": 5,
   "metadata": {},
   "outputs": [],
   "source": [
    "def plot_accuracies(accuracies: tp.List[float], hl_labels: tp.List[str], titles: tp.List[str] = None) -> None:\n",
    "    _, ax = plt.subplots(1, len(accuracies), figsize=(6 * len(accuracies), 5))\n",
    "\n",
    "    if type(ax) != np.ndarray:\n",
    "        ax = [ax]\n",
    "    \n",
    "    for i, ax in enumerate(ax):\n",
    "        ax.plot(accuracies[i])\n",
    "        ax.set_xlabel(\"Number of learnable params\")\n",
    "        ax.set_title(\"Accuracy\")\n",
    "        ax.set_xticks(np.arange(0,len(hl_labels[i])))\n",
    "        ax.set_xticklabels(hl_labels[i])\n",
    "        if titles is not None:\n",
    "            ax.set_title(titles[i])\n",
    "        ax.grid(True)\n",
    "\n",
    "    plt.tight_layout()\n",
    "    plt.show()\n",
    "    plt.close()"
   ]
  },
  {
   "cell_type": "code",
   "execution_count": 6,
   "metadata": {},
   "outputs": [],
   "source": [
    "def plot_loss(losses: tp.Dict[float, np.ndarray]) -> None:\n",
    "    legend = True\n",
    "\n",
    "    # Plot all the losses\n",
    "    for key, value in losses.items():\n",
    "        if key == None:\n",
    "            plt.plot(value)\n",
    "            legend = False\n",
    "        else:\n",
    "            plt.plot(value, label=f\"lr: {key}\")\n",
    "\n",
    "    # Plot the legend, title and labels\n",
    "    plt.title(\"Losses\")\n",
    "    if legend:\n",
    "        plt.legend(loc = 1)\n",
    "    plt.xlabel(\"Number of iterations\")\n",
    "    plt.ylabel(\"Loss\")\n",
    "\n",
    "    plt.tight_layout()\n",
    "    plt.show()\n",
    "    plt.close()"
   ]
  },
  {
   "cell_type": "code",
   "execution_count": 7,
   "metadata": {},
   "outputs": [],
   "source": [
    "def plot_conf_matrix(conf_matrix: np.ndarray) -> None:\n",
    "    # Plot the confusion matrix\n",
    "    sns.heatmap(conf_matrix, annot=True, fmt=\"d\",)\n",
    "    plt.title(\"Confusion matrix\")\n",
    "    plt.xlabel(\"Predicted label\")\n",
    "    plt.ylabel(\"True label\")\n",
    "\n",
    "    plt.tight_layout()\n",
    "    plt.show()\n",
    "    plt.close()"
   ]
  },
  {
   "cell_type": "markdown",
   "metadata": {},
   "source": [
    "---"
   ]
  },
  {
   "cell_type": "markdown",
   "metadata": {},
   "source": [
    "## A) Classification with Neural Networks (using Scikit-Learn)\n",
    "\n",
    "In the first part of this notebook we are going to implement a simple *MLP* using the *Scikit-Learn* library."
   ]
  },
  {
   "cell_type": "markdown",
   "metadata": {},
   "source": [
    "Now load the dataset using the `load_mnist` function and and rescale the data in the range [0,1]."
   ]
  },
  {
   "cell_type": "code",
   "execution_count": 8,
   "metadata": {},
   "outputs": [
    {
     "name": "stdout",
     "output_type": "stream",
     "text": [
      "Number of samples in the MNIST dataset: 60000\n",
      "Minimum and maximum values of the input: 0 255\n",
      "Minimum and maximum values of the input after rescaling: 0.0 1.0\n"
     ]
    }
   ],
   "source": [
    "# Load the data\n",
    "x, y = load_mnist(\"data\")\n",
    "\n",
    "# Print the number of samples in the dataset\n",
    "print(\"Number of samples in the MNIST dataset:\", x.shape[0])\n",
    "\n",
    "# Print the minimum and maximum values of the input\n",
    "print(\"Minimum and maximum values of the input:\", np.min(x), np.max(x))\n",
    "\n",
    "# Rescale the data in [0,1]\n",
    "x = x / np.max(x)\n",
    "\n",
    "# Print the minimum and maximum values of the input after rescaling\n",
    "print(\"Minimum and maximum values of the input after rescaling:\", np.min(x), np.max(x))"
   ]
  },
  {
   "cell_type": "markdown",
   "metadata": {},
   "source": [
    "Now split into training and test. We start with a small training set of $600$ samples to reduce computation time while $4000$ samples will be used for testing. Make sure that each label is present at least $10$ times in training frequencies."
   ]
  },
  {
   "cell_type": "code",
   "execution_count": 9,
   "metadata": {},
   "outputs": [
    {
     "name": "stdout",
     "output_type": "stream",
     "text": [
      "Number of samples in the train set: 600\n",
      "Number of samples in the test set: 59400\n",
      "\n",
      "\n",
      "Labels in training dataset:  [0 1 2 3 4 5 6 7 8 9]\n",
      "Frequencies in training dataset:  [58 58 58 61 53 66 52 53 64 77]\n",
      "\n",
      "\n",
      "Labels in test dataset:  [0 1 2 3 4 5 6 7 8 9]\n",
      "Frequencies in test dataset:  [5942 5942 5942 5939 5947 5934 5948 5947 5936 5923]\n"
     ]
    }
   ],
   "source": [
    "# Random permute the data (both train and test set) and split into training and\n",
    "# test taking the first 600 data samples as training and the rests as test\n",
    "\n",
    "# Create a list of indices\n",
    "idx = np.arange(x.shape[0])\n",
    "# Randomly shuffle the indices\n",
    "np.random.shuffle(idx)\n",
    "# Shuffle the dataset\n",
    "x = x[idx]\n",
    "y = y[idx]\n",
    "n=x.shape[0]\n",
    "\n",
    "# We split the dataset in train and test\n",
    "m_training=600\n",
    "\n",
    "# m_test is the number of samples in the test set (total-training)\n",
    "m_test =  x.shape[0] - m_training\n",
    "X_training =  x[:m_training]\n",
    "Y_training =  y[:m_training]\n",
    "X_test =   x[m_training:]\n",
    "Y_test =  y[m_training:]\n",
    "\n",
    "print(\"Number of samples in the train set:\", X_training.shape[0])\n",
    "print(\"Number of samples in the test set:\", X_test.shape[0])\n",
    "print(\"\\n\")\n",
    "\n",
    "# Print the number of unique labels (with the correspondent \n",
    "# frequency) in the training set and in the test set\n",
    "\n",
    "labels_train, freqs_train = np.unique(Y_training, return_counts=True)\n",
    "print(\"Labels in training dataset: \", labels_train)\n",
    "print(\"Frequencies in training dataset: \", freqs_train)\n",
    "print(\"\\n\")\n",
    "labels_test, freqs_test = np.unique(Y_test, return_counts=True)\n",
    "print(\"Labels in test dataset: \", labels_test)\n",
    "print(\"Frequencies in test dataset: \", freqs_test)"
   ]
  },
  {
   "cell_type": "markdown",
   "metadata": {},
   "source": [
    "Plot three samples from the dataset, together with their label (use the function))"
   ]
  },
  {
   "cell_type": "code",
   "execution_count": 10,
   "metadata": {},
   "outputs": [
    {
     "data": {
      "image/png": "[encoded data removed]",
      "text/plain": [
       "<Figure size 432x288 with 3 Axes>"
      ]
     },
     "metadata": {},
     "output_type": "display_data"
    }
   ],
   "source": [
    "ind=np.random.rand(3)\n",
    "plot_input(x,y,ind)"
   ]
  },
  {
   "cell_type": "markdown",
   "metadata": {},
   "source": [
    "### \n",
    "\n",
    "Now use a feed-forward Neural Network for prediction. Use the multi-layer perceptron classifier, with the following parameters: max_iter = $200$, alpha = $1 \\cdot 10^{-4}$, solver = 'sgd', tol = $1 \\cdot 10^{-4}$, learning_rate_init = $0.1$, random_state = ID (this last parameter ensures the run is the same even if you run it more than once). The alpha parameter is the regularization term.\n",
    "\n",
    "Then, using the default activation function, pick four or five architectures to consider, with different numbers of hidden layers and different sizes. It is not necessary to create huge neural networks, you can limit to $3$ layers and, for each layer, its maximum size can be of $50$. Evaluate the architectures you chose using GridSearchCV with cv = $5$.\n",
    "\n",
    "You can reduce the number of iterations if the running time is too long on your computer."
   ]
  },
  {
   "cell_type": "code",
   "execution_count": 11,
   "metadata": {},
   "outputs": [
    {
     "name": "stdout",
     "output_type": "stream",
     "text": [
      "the best model is:\n",
      "\n",
      "MLPClassifier(hidden_layer_sizes=(40,), learning_rate_init=0.1, solver='sgd')\n",
      "\n",
      "\n",
      "with score 0.74\n",
      "and best parameters {'hidden_layer_sizes': (40,)}\n"
     ]
    }
   ],
   "source": [
    "# These are sample values but feel free to change them as you like,\n",
    "# try to experiment with different sizes!!\n",
    "parameters = {'hidden_layer_sizes': [(10,), (20,), (40,), (20,20,), (40,20,10)]}\n",
    "\n",
    "# Create a MLP classifier using scikit-learn\n",
    "MLP=MLPClassifier(activation = 'relu', max_iter = 200, alpha = 1e-4, solver = 'sgd',tol = 1e-4,\n",
    "                  learning_rate_init = 0.1)\n",
    "\n",
    "# Perform a grid search varying over the given parameters\n",
    "models=GridSearchCV(MLP,parameters,cv=5)\n",
    "models.fit(X_training,Y_training)\n",
    "\n",
    "# Print the best estimator parameters\n",
    "print(\"the best model is:\\n\")\n",
    "print(models.best_estimator_)\n",
    "print(\"\\n\")\n",
    "print(\"with score {:.2f}\".format(models.best_score_))\n",
    "print(\"and best parameters {}\".format(models.best_params_))"
   ]
  },
  {
   "cell_type": "markdown",
   "metadata": {},
   "source": [
    "### Evaluate the best model\n",
    "\n",
    "Plot the train and test accuracies as a function of the numbero of neurons in your neural network. Print also the computation time for the various configuration you try.\n",
    "\n",
    "While performing the *MLP* train with different hidden layer sizes evaluate also the time spend for the training by each different configuration. We can use the `time` library to measure the time spent for the training.\n",
    "\n",
    "Keep in mind that to use the `time()` function we need to import the `time` library (already done at the beginning of this notebook)."
   ]
  },
  {
   "cell_type": "code",
   "execution_count": 12,
   "metadata": {
    "scrolled": true
   },
   "outputs": [
    {
     "name": "stdout",
     "output_type": "stream",
     "text": [
      "Training MLP of size (1,) ...\n",
      "Time needed for training: 0.61 seconds\n",
      "Training MLP of size (3,) ...\n",
      "Time needed for training: 2.05 seconds\n",
      "Training MLP of size (5,) ...\n",
      "Time needed for training: 3.44 seconds\n",
      "Training MLP of size (10,) ...\n",
      "Time needed for training: 4.71 seconds\n",
      "Training MLP of size (20,) ...\n",
      "Time needed for training: 5.81 seconds\n",
      "Training MLP of size (40,) ...\n",
      "Time needed for training: 7.39 seconds\n",
      "Training MLP of size (20, 20) ...\n",
      "Time needed for training: 8.34 seconds\n",
      "Training MLP of size (30, 30, 20) ...\n",
      "Time needed for training: 9.27 seconds\n"
     ]
    },
    {
     "data": {
      "image/png": "[encoded data removed]",
      "text/plain": [
       "<Figure size 864x360 with 2 Axes>"
      ]
     },
     "metadata": {
      "needs_background": "light"
     },
     "output_type": "display_data"
    }
   ],
   "source": [
    "# Import the necessary libraries\n",
    "# Define the list of hidden layer sizes to try out (feel free to change)\n",
    "hidden_layer_sizes = [(1,),(3,),(5,),(10,), (20,), (40,), (20,20,),(30,30,20)]\n",
    "hidden_layer_labels = [param_count(size, X_training, Y_training) for size in hidden_layer_sizes]\n",
    "\n",
    "# Train the MLPs with the different hidden layer sizes and get the accuracies\n",
    "start_time = time()  # Start time\n",
    "train_accuracies, test_accuracies = [], []  # Lists for saving accuracies (train and test)\n",
    "\n",
    "for size in hidden_layer_sizes:\n",
    "    print(f\"Training MLP of size {size} ...\")\n",
    "\n",
    "    # Define the MLP object\n",
    "    mlp = MLPClassifier(hidden_layer_sizes=size, activation='relu', max_iter=200, alpha=1e-4, solver='sgd', tol=1e-4,\n",
    "                        learning_rate_init=0.1)\n",
    "\n",
    "    # Train the MLP\n",
    "    mlp.fit(X_training, Y_training)\n",
    "    elapsed_time = time() - start_time\n",
    "\n",
    "    # Save the accuracies in the correct lists\n",
    "    train_accuracies.append(mlp.score(X_training, Y_training))\n",
    "    test_accuracies.append(mlp.score(X_test, Y_test))\n",
    "\n",
    "    # Print the time needed for training\n",
    "    print(f\"Time needed for training: {elapsed_time:.2f} seconds\")\n",
    "\n",
    "# Plot the train and test accuracies\n",
    "plot_accuracies([train_accuracies, test_accuracies], [hidden_layer_labels, hidden_layer_labels], [\"Train accuracy\", \"Test accuracy\"])\n"
   ]
  },
  {
   "cell_type": "markdown",
   "metadata": {},
   "source": [
    "### Learning rate tuning\n",
    "\n",
    "Now try also to use different learning rates, while keeping the best *NN* architecture and batch size you have found above. Plot the learning curves (*i.e.*, the variation of the loss over the steps, you can get it from the `loss_curve_` object of sklearn) for the different values of the learning rate. Try to run each training for $600$ iterations. Plot all the curves in the same plot."
   ]
  },
  {
   "cell_type": "code",
   "execution_count": 13,
   "metadata": {},
   "outputs": [
    {
     "name": "stdout",
     "output_type": "stream",
     "text": [
      "Best learning rate value:  0.2  with score:  0.7477609427609427\n"
     ]
    },
    {
     "data": {
      "image/png": "[encoded data removed]",
      "text/plain": [
       "<Figure size 432x288 with 1 Axes>"
      ]
     },
     "metadata": {
      "needs_background": "light"
     },
     "output_type": "display_data"
    }
   ],
   "source": [
    "# Define the list of learning rates to try out (feel free to change)\n",
    "lr_list = [0.0002, 0.002, 0.02, 0.2]\n",
    "\n",
    "# Train the MLPs with the different lerning rates\n",
    "scores = {}  # dictionary for saving the scores\n",
    "losses = {}  # dictionary for saving losses\n",
    "\n",
    "# Get the best hidden layer sizes and batch size from the previous MLPs\n",
    "hidden_layers=models.best_params_\n",
    "\n",
    "# TODO: Train the MLPs with the different learning rates and get the scores\n",
    "\n",
    "for lr in lr_list:\n",
    "    # Define the MLP object\n",
    "    mlp = MLPClassifier(hidden_layer_sizes=hidden_layers['hidden_layer_sizes'], activation='relu', max_iter=200, alpha=1e-4, solver='sgd', tol=1e-4,\n",
    "                        learning_rate_init=lr)\n",
    "\n",
    "    # Train the MLP\n",
    "    mlp.fit(X_training, Y_training)\n",
    "    \n",
    "    # Save the score and the loss in the correct dictionary\n",
    "    scores.update({f'{lr}': mlp.score(X_test, Y_test)})\n",
    "    losses.update({f'{lr}': mlp.loss_curve_})\n",
    "\n",
    "# Print the best learning rate value and the corresponding score\n",
    "key_best = max(scores, key = scores.get)\n",
    "print(\"Best learning rate value: \", key_best, \" with score: \", scores[key_best])\n",
    "\n",
    "# Plot the losses\n",
    "plot_loss(losses)"
   ]
  },
  {
   "cell_type": "markdown",
   "metadata": {},
   "source": [
    "### Test the best model\n",
    "\n",
    "Now get training and test error for a NN with best parameters (architecture and learning rate) from above. Plot the learning curve also for this case."
   ]
  },
  {
   "cell_type": "code",
   "execution_count": 14,
   "metadata": {
    "scrolled": true
   },
   "outputs": [
    {
     "name": "stdout",
     "output_type": "stream",
     "text": [
      "Training error:  0.0\n",
      "Test error:  0.25417508417508416\n"
     ]
    },
    {
     "data": {
      "image/png": "[encoded data removed]",
      "text/plain": [
       "<Figure size 432x288 with 1 Axes>"
      ]
     },
     "metadata": {
      "needs_background": "light"
     },
     "output_type": "display_data"
    }
   ],
   "source": [
    "# Define the parameters for the best NN model from CV\n",
    "best_hidden_layers = hidden_layers['hidden_layer_sizes']\n",
    "best_learning_rate = 0.02\n",
    "\n",
    "# TODO: Train the best NN model with the best parameters and compute the training and test error\n",
    "\n",
    "# Define the MLP object with the best parameters\n",
    "mlp = MLPClassifier(hidden_layer_sizes=best_hidden_layers, activation='relu', max_iter=600, alpha=1e-4, solver='sgd', tol=1e-4,\n",
    "                    batch_size=30, learning_rate_init=best_learning_rate)\n",
    "\n",
    "# Train the MLP\n",
    "mlp.fit(X_training, Y_training)\n",
    "\n",
    "# Compute the training and test error\n",
    "train_error = 1 - mlp.score(X_training, Y_training)\n",
    "test_error = 1 - mlp.score(X_test, Y_test)\n",
    "\n",
    "# Print the training and test error\n",
    "print(\"Training error: \", train_error)\n",
    "print(\"Test error: \", test_error)\n",
    "\n",
    "# TODO: Plot the loss curve for the best NN model\n",
    "plot_loss({best_learning_rate: mlp.loss_curve_})"
   ]
  },
  {
   "cell_type": "markdown",
   "metadata": {},
   "source": [
    "---"
   ]
  },
  {
   "cell_type": "markdown",
   "metadata": {},
   "source": [
    "## B) Classification with Neural Networks (with custom implementation)\n",
    "\n",
    "In the second part of this notebook we are going to implement a simple *MLP* from scratch. We are going to use the same dataset as before.\n",
    "\n",
    "### ACTIVATION CLASS\n",
    "    \n",
    "Define the Activation class that implements the activation functions and the correspondent derivative. In particular, implement the following activation functions: **ReLu**, **Sigmoid**."
   ]
  },
  {
   "cell_type": "code",
   "execution_count": 15,
   "metadata": {},
   "outputs": [],
   "source": [
    "class Activation:\n",
    "    \"\"\"\n",
    "    Activation function class\n",
    "    \"\"\"\n",
    "\n",
    "    def __init__(self, name: str) -> None:\n",
    "        \"\"\"\n",
    "        Constructor for the Activation class.\n",
    "        Given a string name, it sets the activation function (and derivative) to be used.\n",
    "        Args:\n",
    "            name (str): the name of the activation function to be used.\n",
    "        \"\"\"\n",
    "\n",
    "        self.name = name\n",
    "\n",
    "    def __call__(self, x: np.ndarray) -> np.ndarray:\n",
    "        \"\"\"\n",
    "        Given an input x, it computes the corresponding activation function.\n",
    "        \\nArgs:\n",
    "            x (np.ndarray): the input to the activation function.\n",
    "        \\nReturns:\n",
    "            np.ndarray: the output of the activation function and the input x (used for backpropagation).\n",
    "        \"\"\"\n",
    "\n",
    "        if self.name == 'relu':\n",
    "            # TODO: Implement the ReLU activation function (replace pass with your code)\n",
    "            u = np.maximum(0, x)\n",
    "            return u, x\n",
    "\n",
    "        elif self.name == 'sigmoid':\n",
    "            # TODO: Implement the Sigmoid activation function (replace pass with your code)\n",
    "            u = 1 / (1 + np.exp(-x))\n",
    "            return u, x\n",
    "        else:\n",
    "            raise ValueError('Activation function not supported')\n",
    "\n",
    "    def derivative(self, x: np.ndarray) -> np.ndarray:\n",
    "        \"\"\"\n",
    "        Given an input x, it computes the corresponding derivative of the activation function.\n",
    "        \\nArgs:\n",
    "            x (np.ndarray): the input to the activation function.\n",
    "        \\nReturns:\n",
    "            np.ndarray: the derivative of the activation function.\n",
    "        \"\"\"\n",
    "\n",
    "        if self.name == 'relu':\n",
    "            # TODO: Implement the derivative of the ReLU activation function (replace pass with your code)\n",
    "            d = np.where(x > 0, 1, 0)\n",
    "            return d\n",
    "        elif self.name == 'sigmoid':\n",
    "            # TODO: Implement the derivative of the Sigmoid activation function (replace pass with your code)\n",
    "            d = np.exp(-x) / (1 + np.exp(-x))**2\n",
    "            return d\n",
    "        else:\n",
    "            raise ValueError('Activation function not supported')"
   ]
  },
  {
   "cell_type": "markdown",
   "metadata": {},
   "source": [
    "### MLP CLASS\n",
    "\n",
    "The following block contains the structure of the *MLP* class. You have to complete the `forward` functions. The `forward` function should compute the forward pass of the network.\n",
    "Note that to be able to perform backpropagation algorithm we have to keep track of all the computation we do in the forward pass. In particular, this is done in the `cache` variable that is stored at each layer. Note that in order to work properly with the already provided `backprop()` method, the cache has to sored in a specific way. In particular we have chosen that the cache is a tuple containing `(a_prev, W, b)` where:\n",
    "- `a_prev` is the output of the previous layer (np.ndarray)\n",
    "- `W` is the current weight matrix (np.ndarray)\n",
    "- `b` is the current bias vector (np.ndarray)"
   ]
  },
  {
   "cell_type": "code",
   "execution_count": 16,
   "metadata": {},
   "outputs": [],
   "source": [
    "class DiyMlp:\n",
    "    \"\"\"\n",
    "    A Multi-layer Perceptron implementation.\n",
    "    keep in mind that all the input are considered with the batch_size as the last dimension.\n",
    "    \"\"\"\n",
    "\n",
    "    def __init__(self, layers: list, learning_rate: float):\n",
    "        \"\"\"\n",
    "        Constructor for the DiyMlp class.\n",
    "        Given a list of layers and a learning rate, it initializes the parameters of the MLP.\n",
    "        Each layer a part from the last one use as activation function the ReLU, while the last one uses the sigmoid.\n",
    "        \\nArgs:\n",
    "            layers (list): a list of layers, each element of the list contains the number of neurons of the layer,\n",
    "            learning_rate (float): the learning rate used during training\n",
    "        \"\"\"\n",
    "\n",
    "        self.n_layers = len(layers)  # number of layers\n",
    "        params = {}  # dictionary containing the parameters W and b of each layer\n",
    "\n",
    "        # For each layer, we define the weight matrix W, the bias vector b and the activation function\n",
    "        for l in range(1, self.n_layers):\n",
    "            params[f\"W{l}\"] = np.random.randn(layers[l], layers[l-1]) * 0.01  # initialize the weight matrix of the layer to a normal distribution rescaled by 0.01\n",
    "            params[f\"b{l}\"] = np.zeros((layers[l], 1))  # initialize the bias vector of the layer to zeros\n",
    "            params[f\"activation{l}\"] = Activation(\"relu\" if l < self.n_layers - 1 else \"sigmoid\")  # define the activation function of the layer\n",
    "\n",
    "        self.params = params  # save the parameters of the network\n",
    "        self.lr = learning_rate  # save the learning rate\n",
    "\n",
    "    @staticmethod\n",
    "    def one_hot(x: np.ndarray, n_classes: int) -> np.ndarray:\n",
    "        \"\"\"\n",
    "        It converts the input x into a one-hot encoding.\n",
    "        \\nArgs:\n",
    "            x (np.ndarray): the input vector containing the labels of the samples.\n",
    "            n_classes (int): the number of classes.\n",
    "        \\nReturns:\n",
    "            np.ndarray: the one-hot encoding of x.\n",
    "        \"\"\"\n",
    "\n",
    "        return np.eye(n_classes)[x.reshape(-1)]\n",
    "\n",
    "    def forward(self, x: np.ndarray) -> tp.Tuple[np.ndarray, list]:\n",
    "        \"\"\"\n",
    "        Implement the forward propagation of the network. For each layer a part the last one, it computes the linear transformation and applies the activation function.\n",
    "        Given an input x, it computes the forward pass of the network.\n",
    "        \\nArgs:\n",
    "            x (np.ndarray): the input to the network.\n",
    "        \\nReturns:\n",
    "            np.ndarray: the output of the network.\n",
    "            list: a list containing the linear and activation caches.\n",
    "        \"\"\"\n",
    "\n",
    "        caches = []  # list for storing the linear and activation caches\n",
    "\n",
    "        out = None  # output of the layer\n",
    "\n",
    "        # For each layer of the model a part the last one ...\n",
    "        for l in range(1, self.n_layers):\n",
    "            prev = cp(x) if l == 1 else out  # storing the input of the layer, i.e., the output of the previous layer\n",
    "            \n",
    "            # Linear Hypothesis\n",
    "            # TODO: Compute the linear hypothesis z = W*a_prev + b (replace None with your code)\n",
    "            z = np.dot(self.params[f\"W{l}\"], prev) + self.params[f\"b{l}\"]\n",
    "            \n",
    "            # Storing the linear cache for backpropagation = (a_prev, W, b)\n",
    "            # TODO: Store the linear cache (replace None with your code)\n",
    "            linear_cache = (prev, self.params[f\"W{l}\"], self.params[f\"b{l}\"])\n",
    "            \n",
    "            # Applying the activation function on linear hypothesis\n",
    "            # TODO: Compute the activation function on z (replace None with your code)\n",
    "            out, activation_cache = self.params[f\"activation{l}\"](z)\n",
    "            \n",
    "            # storing both the linear and activation cache\n",
    "            caches.append((linear_cache, activation_cache))\n",
    "        \n",
    "        return out, caches\n",
    "    \n",
    "    @staticmethod\n",
    "    def cost_function(out: np.ndarray, y: np.ndarray) -> np.ndarray:\n",
    "        \"\"\"\n",
    "        Given the output of the network out and the ground truth labels y, it computes the cost function (loss).\n",
    "        This implementation uses the cross-entropy loss.\n",
    "        \\nArgs:\n",
    "            out (np.ndarray): the output of the network.\n",
    "            y (np.ndarray): the ground truth labels.\n",
    "        \\nReturns:\n",
    "            np.ndarray: the cost value.\n",
    "        \"\"\"\n",
    "        \n",
    "        return (-1/y.shape[1]) * (np.dot(np.log(out), y.T) + np.dot(np.log(1-out), 1-y.T))\n",
    "\n",
    "    @staticmethod\n",
    "    def one_layer_backward(d_pred: np.ndarray, cache: tp.List[tp.Tuple[np.ndarray]], derivative_activation: Activation.derivative) -> tuple:\n",
    "        \"\"\"\n",
    "        Given the derivative of the loss with respect to the output of the layer d_pred and the linear and activation cache,\n",
    "        it computes the derivative of the loss with respect to the input of the layer d_pred_prev, the derivative of the loss\n",
    "        with respect to the weights d_w and the derivative of the loss with respect to the bias d_b.\n",
    "        \\nArgs:\n",
    "            d_pred (np.ndarray): the derivative of the loss with respect to the output of the layer.\n",
    "            cache (list): a list containing the linear and activation cache.\n",
    "            derivative_activation (Activation.derivative): the derivative of the activation function.   \n",
    "        \\nReturns:\n",
    "            tuple: a tuple containing the derivative of the loss with respect to the input of the layer dA_prev,\n",
    "            the derivative of the loss with respect to the weights dW and the derivative of the loss with respect to the bias db.\n",
    "        \"\"\"\n",
    "\n",
    "        linear_cache, activation_cache = cache  # retrieve the linear and activation cache\n",
    "        \n",
    "        z = activation_cache\n",
    "        d_z = d_pred * derivative_activation(z) # compute the derivative of the loss with respect to z\n",
    "        \n",
    "        pred_prev, w, _ = linear_cache  # retrieve the input of the layer and the weights from the cache\n",
    "        m = pred_prev.shape[1]  # retrieve the number of samples\n",
    "        \n",
    "        d_w = (1/m) * np.dot(d_z, pred_prev.T)  # compute the derivative of the loss with respect to w\n",
    "        d_b = (1/m) * np.sum(d_z, axis=1, keepdims=True)  # compute the derivative of the loss with respect to b\n",
    "        d_pred_prev = np.dot(w.T, d_z)  # compute the derivative of the loss with respect to the input of the layer\n",
    "        \n",
    "        return d_pred_prev, d_w, d_b\n",
    "    \n",
    "    def backprop(self, pred, labels, caches) -> dict:\n",
    "        \"\"\"\n",
    "        Given the output of the network pred, the ground truth labels y and the caches,\n",
    "        it computes the backward pass of the network.\n",
    "        \\nArgs:\n",
    "            pred (np.ndarray): the output of the network.\n",
    "            labels (np.ndarray): the ground truth labels.\n",
    "            caches (list): a list containing the linear and activation caches.\n",
    "        \\nReturns:\n",
    "            dict: a dictionary containing the derivatives of the loss with respect to the parameters of the network.\n",
    "        \"\"\"\n",
    "\n",
    "        grads = {}  # dictionary for storing the gradients\n",
    "        labels = labels.reshape(pred.shape) # reshape the labels to have the same shape as the output of the network\n",
    "        caches_len = len(caches)\n",
    "        \n",
    "        # Compute the grad of the last layer\n",
    "        d_pred = -(np.divide(labels, pred) - np.divide(1-labels, 1-pred))  # compute the derivative of the loss with respect to the output of the network\n",
    "        current_cache = caches[caches_len - 1]  # retrieve the linear and activation cache of the last layer\n",
    "        grads[f\"d_pred{caches_len - 1}\"], grads[f\"dW{caches_len}\"], grads[f\"db{caches_len}\"] = self.one_layer_backward(d_pred, current_cache, self.params[f\"activation{caches_len}\"].derivative)\n",
    "        \n",
    "        # Compute the grad for all the other layers in reverse order\n",
    "        for l in reversed(range(caches_len - 1)):\n",
    "            current_cache = caches[l]  # retrieve the linear and activation cache of the layer\n",
    "            grads[f\"d_pred{l}\"], grads[f\"dW{l + 1}\"], grads[f\"db{l + 1}\"] = self.one_layer_backward(grads[f\"d_pred{l + 1}\"], current_cache, self.params[f\"activation{l + 1}\"].derivative)  # compute the derivative of the loss with respect to the output of the next layer\n",
    "            \n",
    "        return grads\n",
    "    \n",
    "    def update_parameters(self, grads: dict) -> None:\n",
    "        \"\"\"\n",
    "        Given the gradients grads,it updates the weight matrix and the bias vector using the stochastic gradient descent.\n",
    "        \\nArgs:\n",
    "            grads (dict): a dictionary containing the derivatives of the loss with respect to the parameters of the network.\n",
    "        \"\"\"\n",
    "\n",
    "        for l in range(self.n_layers - 1):\n",
    "            self.params[f\"W{l + 1}\"] = self.params[f\"W{l + 1}\"] - self.lr*grads[f\"dW{l + 1}\"]\n",
    "            self.params[f\"b{l + 1}\"] = self.params[f\"b{l + 1}\"] - self.lr*grads[f\"db{l + 1}\"]\n",
    "\n",
    "    def train(self, x: np.ndarray, y: np.ndarray, epochs: int) -> None:\n",
    "        \"\"\"\n",
    "        Given the input x, the ground truth labels y and the number of epochs, it trains the network.\n",
    "        \\nArgs:\n",
    "            x (np.ndarray): the input to the network.\n",
    "            y (np.ndarray): the ground truth labels.\n",
    "            epochs (int): the number of epochs.\n",
    "        \"\"\"\n",
    "\n",
    "        x = x.T  # transpose the input to have the batch size as the first dimension\n",
    "        y = self.one_hot(y, np.unique(y).shape[0]).T  # one-hot encode the labels and transpose to have the batch size as the first dimension\n",
    "\n",
    "        cost_history = []  # list for storing the cost at each epoch\n",
    "        \n",
    "        # For each epoch ...\n",
    "        for _ in range(epochs):\n",
    "            out, caches = self.forward(x)  # compute the output of the network and retrieve the caches\n",
    "            cost = self.cost_function(out, y)  # compute the cost\n",
    "            cost_history.append(cost)  # save the cost\n",
    "            grads = self.backprop(out, y, caches)  # compute the gradients\n",
    "            \n",
    "            self.update_parameters(grads)  # update the parameters of the network using the gradients\n",
    "\n",
    "    def predict(self, x: np.ndarray) -> np.ndarray:\n",
    "        \"\"\"\n",
    "        Given the input x, it computes the output of the network.\n",
    "        \\nArgs:\n",
    "            x (np.ndarray): the input to the network.\n",
    "        \\nReturns:\n",
    "            np.ndarray: the output of the network.\n",
    "        \"\"\"\n",
    "\n",
    "        x = x.T  # transpose the input to have the batch size as the first dimension\n",
    "        out, _ = self.forward(x)  # compute the output of the network\n",
    "        predictions = np.argmax(out, axis=0)  # get the predictions\n",
    "        \n",
    "        return predictions"
   ]
  },
  {
   "cell_type": "markdown",
   "metadata": {},
   "source": [
    "### TRAINING\n",
    "\n",
    "Train the *MLP* you have implemented. Then print its accuracy and plot the confusion matrix to better visualize the performance of the model."
   ]
  },
  {
   "cell_type": "code",
   "execution_count": 17,
   "metadata": {},
   "outputs": [
    {
     "name": "stdout",
     "output_type": "stream",
     "text": [
      "Accuracy on the test set:  0.7510437710437711\n"
     ]
    }
   ],
   "source": [
    "# Define the MLP object\n",
    "learning_rate = 0.2\n",
    "diy_mlp = DiyMlp([784, 40, 10], learning_rate)\n",
    "\n",
    "# TODO: Train the MLP and compute the accuracy on the test set\n",
    "\n",
    "# Train the MLP\n",
    "diy_mlp.train(X_training, Y_training, 200)\n",
    "\n",
    "# Compute the prediction\n",
    "Y_pred = diy_mlp.predict(X_test)\n",
    "\n",
    "# Compute the accuracy on the test set and print it\n",
    "accuracy = 1 - np.sum(Y_pred != Y_test) / len(Y_test)\n",
    "print(\"Accuracy on the test set: \", accuracy)"
   ]
  },
  {
   "cell_type": "code",
   "execution_count": 18,
   "metadata": {},
   "outputs": [
    {
     "data": {
      "image/png": "[encoded data removed]",
      "text/plain": [
       "<Figure size 432x288 with 2 Axes>"
      ]
     },
     "metadata": {
      "needs_background": "light"
     },
     "output_type": "display_data"
    }
   ],
   "source": [
    "# Compute the confusion matrix\n",
    "cm=confusion_matrix(Y_test,Y_pred)\n",
    "\n",
    "# Plot the confusion matrix\n",
    "plot_conf_matrix(cm)"
   ]
  }
 ],
 "metadata": {
  "kernelspec": {
   "display_name": "Python 3",
   "language": "python",
   "name": "python3"
  },
  "language_info": {
   "codemirror_mode": {
    "name": "ipython",
    "version": 3
   },
   "file_extension": ".py",
   "mimetype": "text/x-python",
   "name": "python",
   "nbconvert_exporter": "python",
   "pygments_lexer": "ipython3",
   "version": "3.10.12"
  }
 },
 "nbformat": 4,
 "nbformat_minor": 4
}
