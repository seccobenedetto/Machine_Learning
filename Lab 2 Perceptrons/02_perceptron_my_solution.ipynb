{
 "cells": [
  {
   "cell_type": "markdown",
   "metadata": {},
   "source": [
    "# Machine Learning LAB 2: Perceptrons\n",
    "\n",
    "Course 2024/25: *F. Chiariotti*\n",
    "\n",
    "The notebook contains a simple learning task over which we will implement **PERCEPTRON**.\n",
    "\n",
    "Complete all the **required code sections** and **answer all the questions**.\n",
    "\n",
    "### IMPORTANT for the exam:\n",
    "\n",
    "The functions you might be required to implement in the exam will have the same signature and parameters as the ones in the labs"
   ]
  },
  {
   "cell_type": "markdown",
   "metadata": {},
   "source": [
    "## Classification of Stayed/Churned Customers"
   ]
  },
  {
   "cell_type": "markdown",
   "metadata": {},
   "source": [
    "The Customer Churn table contains information on all 3,758 customers from a Telecommunications company in California in Q2 2022. Companies are naturally interested in churn, i.e., in which users are likely to switch to another company soon to get a better deal, and which are more loyal customers.\n",
    "\n",
    "The dataset contains three features:\n",
    "- **Tenure in Months**: Number of months the customer has stayed with the company\n",
    "- **Monthly Charge**: The amount charged to the customer monthly\n",
    "- **Age**: Customer's age\n",
    "\n",
    "The aim of the task is to predict if a customer will churn or not based on the three features."
   ]
  },
  {
   "cell_type": "markdown",
   "metadata": {},
   "source": [
    "---"
   ]
  },
  {
   "cell_type": "markdown",
   "metadata": {},
   "source": [
    "## Import all the necessary Python libraries and load the dataset"
   ]
  },
  {
   "cell_type": "markdown",
   "metadata": {},
   "source": [
    "### The Dataset\n",
    "The dataset is a `.csv` file containing three input features and a label. Here is an example of the first 4 rows of the dataset: \n",
    "\n",
    "<center>\n",
    "\n",
    "Tenure in Months | Monthly Charge | Age | Customer Status |\n",
    "| -----------------| ---------------|-----|-----------------|\n",
    "| 9 | 65.6 | 37 | 0 |\n",
    "| 9 | -4.0 | 46 | 0 |\n",
    "| 4 | 73.9 | 50 | 1 |\n",
    "| ... | ... | ... | ... |\n",
    "\n",
    "</center>\n",
    "\n",
    "Customer Status is 0 if the customer has stayed with the company and 1 if the customer has churned."
   ]
  },
  {
   "cell_type": "code",
   "execution_count": 71,
   "metadata": {},
   "outputs": [],
   "source": [
    "import numpy as np\n",
    "import numpy.random as npr\n",
    "import random as rnd\n",
    "import pandas as pd\n",
    "from matplotlib import pyplot as plt\n",
    "from sklearn import linear_model, preprocessing\n",
    "from sklearn.model_selection import train_test_split"
   ]
  },
  {
   "cell_type": "code",
   "execution_count": 78,
   "metadata": {},
   "outputs": [
    {
     "name": "stdout",
     "output_type": "stream",
     "text": [
      "<class 'numpy.ndarray'>\n",
      "<class 'numpy.ndarray'>\n",
      "(3757, 3)\n",
      "(3757,)\n",
      "[[20.   19.7  62.  ]\n",
      " [ 8.   81.25 66.  ]\n",
      " [11.   48.55 43.  ]\n",
      " ...\n",
      " [19.   24.9  20.  ]\n",
      " [64.   47.85 61.  ]\n",
      " [37.   90.6  42.  ]]\n"
     ]
    }
   ],
   "source": [
    "npr.seed(1)\n",
    "\n",
    "def load_dataset(filename):\n",
    "    data_train = pd.read_csv(filename)\n",
    "    #permute the data per Evita problemi in algoritmi sequenziali (come il perceptron))\n",
    "    data_train = data_train.sample(frac=1).reset_index(drop=True) # shuffle the data\n",
    "    X = data_train.iloc[:, 0:3].values    # Get first three columns as the input\n",
    "    Y = data_train.iloc[:, 3].values      # Get the third column as the label\n",
    "    Y = 2*Y-1                             # Make sure labels are -1 or 1 (0 --> -1, 1 --> 1)\n",
    "    return X,Y\n",
    "\n",
    "# Load the dataset\n",
    "X, Y = load_dataset('data/telecom_customer_churn_cleaned.csv')\n",
    "print(type(X))\n",
    "print(type(Y))\n",
    "print(X.shape)\n",
    "print(Y.shape)\n",
    "print(X)"
   ]
  },
  {
   "cell_type": "markdown",
   "metadata": {},
   "source": [
    "We are going to differentiate (classify) between **class \"1\" (churned)** and **class \"-1\" (stayed)**"
   ]
  },
  {
   "cell_type": "markdown",
   "metadata": {},
   "source": [
    "## Divide the data into training and test sets"
   ]
  },
  {
   "cell_type": "code",
   "execution_count": 91,
   "metadata": {},
   "outputs": [
    {
     "name": "stdout",
     "output_type": "stream",
     "text": [
      "Number of samples in the train set: 2817\n",
      "Number of samples in the test set: 940\n",
      "Number of churned users in test: 479\n",
      "Number of loyal users in test: 461\n",
      "Mean of the training input data: [-0.  0. -0.]\n",
      "Std of the training input data: [1. 1. 1.]\n",
      "Mean of the test input data: [0.0575483  0.05550169 0.0073833 ]\n",
      "Std of the test input data: [0.98593187 0.97629659 1.00427583]\n"
     ]
    }
   ],
   "source": [
    "# Compute the splits (75% training, 25% test set)\n",
    "m_training = int(0.75*X.shape[0])\n",
    "m_test =  X.shape[0] - m_training # m_test is the number of samples in the test set (total-training)\n",
    "X_training =  X[:m_training]\n",
    "Y_training =  Y[:m_training]\n",
    "X_test =   X[m_training:]\n",
    "Y_test =  Y[m_training:]\n",
    "\n",
    "print(\"Number of samples in the train set:\", X_training.shape[0])\n",
    "print(\"Number of samples in the test set:\", X_test.shape[0])\n",
    "print(\"Number of churned users in test:\", np.sum(Y_test==-1))\n",
    "print(\"Number of loyal users in test:\", np.sum(Y_test==1))\n",
    "\n",
    "# Standardize the input matrix (mean 0, variance 1)\n",
    "# The transformation is computed on training data and then used on all the 3 sets and also in test set!!!\n",
    "scaler = preprocessing.StandardScaler().fit(X_training) \n",
    "np.set_printoptions(suppress=True) # sets to zero floating point numbers < min_float_eps\n",
    "# we scale X_training:\n",
    "X_training =  scaler.transform(X_training)      \n",
    "print (\"Mean of the training input data:\", X_training.mean(axis=0))\n",
    "print (\"Std of the training input data:\",X_training.std(axis=0))\n",
    "# we scale X_test with the same parameters found with X_training \n",
    "# (so the mean and dev will not be exactly 0 and 1 but at least the test set will remain untouched)\n",
    "X_test =  scaler.transform(X_test)              \n",
    "print (\"Mean of the test input data:\", X_test.mean(axis=0))\n",
    "print (\"Std of the test input data:\", X_test.std(axis=0))"
   ]
  },
  {
   "cell_type": "markdown",
   "metadata": {},
   "source": [
    "We will use **homogeneous coordinates** to describe all the coefficients of the model.\n",
    "\n",
    "_Hint:_ The conversion can be performed with the function $hstack$ in $numpy$."
   ]
  },
  {
   "cell_type": "code",
   "execution_count": 92,
   "metadata": {},
   "outputs": [],
   "source": [
    "def to_homogeneous(X_training, X_test):\n",
    "    # Transform the input into homogeneous coordinates: we add a column of 1's as first column\n",
    "    Xh_training = np.hstack( [np.ones( ( X_training.shape[0], 1 ) ), X_training] )\n",
    "    Xh_test = np.hstack(     [np.ones( ( X_test.shape[0],      1) ), X_test    ] )\n",
    "    return Xh_training, Xh_test"
   ]
  },
  {
   "cell_type": "code",
   "execution_count": 98,
   "metadata": {},
   "outputs": [],
   "source": [
    "# convert to homogeneous coordinates using the function above\n",
    "X_training, X_test = to_homogeneous(X_training, X_test)\n",
    "print(\"Training set in homogeneous coordinates:\")"
   ]
  },
  {
   "cell_type": "code",
   "execution_count": 102,
   "metadata": {},
   "outputs": [
    {
     "name": "stdout",
     "output_type": "stream",
     "text": [
      "[[ 1.         -0.3798618  -1.57020044  0.85174963]\n",
      " [ 1.         -0.87925308  0.47180292  1.08667766]\n",
      " [ 1.         -0.75440526 -0.6130632  -0.26415851]\n",
      " [ 1.         -1.12894873  0.09856916 -0.96894261]\n",
      " [ 1.         -1.12894873 -0.58486332 -1.20387064]\n",
      " [ 1.          1.78416712  1.39908145  0.08823353]\n",
      " [ 1.         -0.7960212  -1.0990965  -0.32289052]\n",
      " [ 1.          0.20276137 -0.39907585 -0.96894261]\n",
      " [ 1.         -0.62955744  0.63934341  0.96921364]\n",
      " [ 1.         -0.87925308  1.13201197 -0.02923048]]\n"
     ]
    }
   ],
   "source": [
    "print(X_training[:10])"
   ]
  },
  {
   "cell_type": "markdown",
   "metadata": {},
   "source": [
    "## Deterministic perceptron\n",
    "\n",
    "Now **complete** the function *perceptron*. <br>\n",
    "The **perceptron** algorithm **does not terminate** if the **data** is not **linearly separable**, therefore your implementation should **terminate** if it **reached the termination** condition seen in class **or** if a **maximum number of iterations** have already been run, where one **iteration** corresponds to **one update of the perceptron weights**. In case the **termination** is reached **because** the **maximum** number of **iterations** have been completed, the implementation should **return the best model** seen throughout.\n",
    "\n",
    "The current version of the perceptron is **deterministic**: we use a fixed rule to decide which sample should be considered (e.g., the one with the lowest index).\n",
    "\n",
    "The input parameters to pass are:\n",
    "- $X$: the matrix of input features, one row for each sample\n",
    "- $Y$: the vector of labels for the input features matrix X\n",
    "- $max\\_num\\_iterations$: the maximum number of iterations for running the perceptron\n",
    "\n",
    "The output values are:\n",
    "- $best\\_w$: the vector with the coefficients of the best model (or the latest, if the termination condition is reached)\n",
    "- $best\\_error$: the *fraction* of misclassified samples for the best model"
   ]
  },
  {
   "cell_type": "markdown",
   "metadata": {},
   "source": [
    "**Watch out the difference of views and copies!!!!**"
   ]
  },
  {
   "cell_type": "code",
   "execution_count": 112,
   "metadata": {},
   "outputs": [],
   "source": [
    "def count_errors(current_w, X, Y):\n",
    "    # This function:\n",
    "    # -computes the number of misclassified samples\n",
    "    # -returns the indexes of all misclassified samples\n",
    "    # -if there are no misclassified samples, returns -1 as index\n",
    "    n=0          # error count iterator\n",
    "    idx_miss=[]  # list of missclassified points\n",
    "    for i in range(len(X)):\n",
    "        classif = np.dot(current_w, X[i,:])*Y[i]    # problem of this formula and initial weights: in the first try it gives usa 0\n",
    "        if classif <= 0: \n",
    "            n+=1\n",
    "            idx_miss.append(i)\n",
    "    if n==0: return 0, -1\n",
    "    else: return n, idx_miss\n",
    "\n",
    "    \n",
    "def perceptron_fixed_update(current_w, X, Y):\n",
    "    # Write the perceptron update function\n",
    "    n, idx_miss = count_errors(current_w, X, Y)\n",
    "    if n > 0 :  new_w = current_w + X[ idx_miss[0],: ] * Y[ idx_miss[0] ]\n",
    "    else:       new_w = current_w\n",
    "    return new_w\n",
    "\n",
    "# version of perceptron function in deterministic case:\n",
    "def perceptron_no_randomization(X, Y, max_num_iterations):  \n",
    "    # Write the perceptron main loop:\n",
    "    current_w = np.zeros( X.shape[1] )\n",
    "    n, idx_miss = count_errors(current_w, X, Y)\n",
    "    #print(n)\n",
    "    # The perceptron should run for up to max_num_iterations, or stop if it finds a solution with ERM=0:\n",
    "    best_error= n/X.shape[0] \n",
    "    best_w = current_w.copy()\n",
    "    i_iter=0\n",
    "    while ( n > 0 and  i_iter < max_num_iterations):\n",
    "        current_w = perceptron_fixed_update(current_w, X, Y)    # update w\n",
    "        n, idx_miss = count_errors(current_w, X, Y)              # check error of update\n",
    "        error = n/X.shape[0]                                     # fraction of errors over total points\n",
    "        if (best_error > error):\n",
    "            best_error = error\n",
    "            best_w = current_w.copy()\n",
    "        i_iter += 1\n",
    "    return best_w, best_error"
   ]
  },
  {
   "cell_type": "markdown",
   "metadata": {},
   "source": [
    "Now we use the implementation above of the perceptron to learn a model from the training data using 30 iterations and print the error of the best model we have found."
   ]
  },
  {
   "cell_type": "code",
   "execution_count": 114,
   "metadata": {},
   "outputs": [
    {
     "name": "stdout",
     "output_type": "stream",
     "text": [
      "Training Error of perceptron (30 iterations):  0.2751153709620163 and the weights are: \n",
      " [-1.         -3.57365256  1.24507237 -0.67555361]\n",
      "Training Error of perceptron (100 iterations):  0.2751153709620163 and the weights are: \n",
      " [-1.         -3.57365256  1.24507237 -0.67555361]\n"
     ]
    }
   ],
   "source": [
    "w_found, error = perceptron_no_randomization(X_training,Y_training, 30)\n",
    "print(f\"Training Error of perceptron (30 iterations):  {error} and the weights are: \\n {w_found}\")\n",
    "w_found2, error2 = perceptron_no_randomization(X_training,Y_training, 100)\n",
    "print(f\"Training Error of perceptron (100 iterations):  {error2} and the weights are: \\n {w_found2}\")"
   ]
  },
  {
   "cell_type": "markdown",
   "metadata": {},
   "source": [
    "Now use the best model $w\\_found$ to **predict the labels for the test dataset** and print the fraction of misclassified samples in the test set (the test error that is an estimate of the true loss)."
   ]
  },
  {
   "cell_type": "code",
   "execution_count": 116,
   "metadata": {},
   "outputs": [
    {
     "name": "stdout",
     "output_type": "stream",
     "text": [
      "Test Error of perceptron (30 iterations):   0.26382978723404255\n",
      "Test Error of perceptron (100 iterations):  0.26382978723404255\n"
     ]
    }
   ],
   "source": [
    "def loss_estimate(w,X,Y):\n",
    "    # Estimate the test loss:\n",
    "    t_loss_estimate, idx_miss = count_errors(w, X, Y)\n",
    "    t_loss_estimate /= X.shape[0]\n",
    "    return t_loss_estimate\n",
    "\n",
    "# Error rate on the test set:\n",
    "true_loss_estimate =   loss_estimate(w_found, X_test, Y_test)       \n",
    "true_loss_estimate2 =  loss_estimate(w_found2, X_test, Y_test) \n",
    "\n",
    "print(f\"Test Error of perceptron (30 iterations):   {true_loss_estimate}\")\n",
    "print(f\"Test Error of perceptron (100 iterations):  {true_loss_estimate2}\")"
   ]
  },
  {
   "cell_type": "markdown",
   "metadata": {},
   "source": [
    "### Randomized perceptron\n",
    "\n",
    "Implement the correct randomized version of the perceptron such that at each iteration the algorithm picks a random misclassified sample and updates the weights using that sample. The functions will be very similar, except for some minor details."
   ]
  },
  {
   "cell_type": "code",
   "execution_count": 118,
   "metadata": {},
   "outputs": [],
   "source": [
    "def perceptron_randomized_update(current_w, X, Y):\n",
    "    n, idx_miss = count_errors(current_w, X, Y)\n",
    "    # PARTE AGGIORNATA RISPETTO A PRIMA (we need [0] because 'npr.choice' gives us an array)\n",
    "    rand_index = npr.choice(idx_miss, 1)[0]     \n",
    "    if n > 0 :  new_w = current_w + X[ rand_index,: ] * Y[ rand_index ]\n",
    "    else:       new_w = current_w\n",
    "    return new_w\n",
    "\n",
    "def perceptron_with_randomization(X, Y, max_num_iterations):  \n",
    "    current_w = np.zeros( X.shape[1] )\n",
    "    n, idx_miss = count_errors(current_w, X, Y)\n",
    "    best_error= n/X.shape[0] \n",
    "    best_w = current_w.copy()\n",
    "    i_iter=0\n",
    "    while ( n > 0 and  i_iter < max_num_iterations):\n",
    "        current_w = perceptron_randomized_update(current_w, X, Y)    # PARTE AGGIORNATA RISPETTO A PRIMA\n",
    "        n, idx_miss = count_errors(current_w, X, Y)                  \n",
    "        error = n/X.shape[0]                                         \n",
    "        if (best_error > error):\n",
    "            best_error = error\n",
    "            best_w = current_w.copy()\n",
    "        i_iter += 1\n",
    "    return best_w, best_error"
   ]
  },
  {
   "cell_type": "markdown",
   "metadata": {},
   "source": [
    "Now test the correct version of the perceptron using 30 iterations and print the error of the best model we have found."
   ]
  },
  {
   "cell_type": "code",
   "execution_count": 119,
   "metadata": {},
   "outputs": [
    {
     "name": "stdout",
     "output_type": "stream",
     "text": [
      "Training Error of perceptron (30 iterations): 0.25097621583244584\n",
      "Training Error of perceptron (100 iterations): 0.24565140220092296\n",
      "Test Error of perceptron (30 iterations): 0.251063829787234\n",
      "Test Error of perceptron (100 iterations): 0.2478723404255319\n"
     ]
    }
   ],
   "source": [
    "# Now run the perceptron for 30 iterations\n",
    "w_found, error = perceptron_with_randomization(X_training, Y_training, 30)\n",
    "w_found2, error2 = perceptron_with_randomization(X_training, Y_training, 100)\n",
    "print(\"Training Error of perceptron (30 iterations): \" + str(error))\n",
    "print(\"Training Error of perceptron (100 iterations): \" + str(error2))\n",
    "\n",
    "true_loss_estimate =  loss_estimate(w_found, X_test, Y_test)       # Error rate on the test set\n",
    "true_loss_estimate2 =  loss_estimate(w_found2, X_test, Y_test) \n",
    "\n",
    "print(\"Test Error of perceptron (30 iterations): \" + str(true_loss_estimate))\n",
    "print(\"Test Error of perceptron (100 iterations): \" + str(true_loss_estimate2))"
   ]
  },
  {
   "cell_type": "code",
   "execution_count": 130,
   "metadata": {},
   "outputs": [
    {
     "name": "stdout",
     "output_type": "stream",
     "text": [
      "1 31 61 91 121 151 181 211 241 271 301 331 361 391 421 451 481 511 541 571 601 631 661 691 721 751 781 811 841 871 901 931 961 991 "
     ]
    }
   ],
   "source": [
    "# Plot the loss with respect to the number of iterations (up to 1000)\n",
    "\n",
    "losses_rand = []\n",
    "losses_no_rand = []\n",
    "num_iterations = []\n",
    "for i in range(1,1002, 30):\n",
    "    \n",
    "    w_found, error = perceptron_with_randomization(X_training, Y_training, i)   # training\n",
    "    test_error =  loss_estimate(w_found, X_test, Y_test)                        # testing\n",
    "    losses_rand.append(test_error)\n",
    "\n",
    "    w_found2, error2 = perceptron_no_randomization(X_training, Y_training, i)   # training\n",
    "    test_error2 =  loss_estimate(w_found2, X_test, Y_test)                      # testing\n",
    "    losses_no_rand.append(test_error2)    \n",
    "\n",
    "    num_iterations.append(i)\n",
    "    print(i, end=' ')                                                           # to see progression runtime"
   ]
  },
  {
   "cell_type": "code",
   "execution_count": 133,
   "metadata": {},
   "outputs": [
    {
     "data": {
      "image/png": "[encoded data removed]",
      "text/plain": [
       "<Figure size 1200x500 with 1 Axes>"
      ]
     },
     "metadata": {},
     "output_type": "display_data"
    }
   ],
   "source": [
    "x = np.array( num_iterations )\n",
    "plt.figure(figsize=(12,5))\n",
    "plt.plot(x, losses_rand, label='With randomization')\n",
    "plt.plot(x, losses_no_rand, label='Without randomization')\n",
    "plt.title('Evolution of loss')\n",
    "plt.xlabel('Num of iteration')\n",
    "plt.ylabel('Test loss')\n",
    "plt.legend()\n",
    "plt.grid()"
   ]
  },
  {
   "cell_type": "markdown",
   "metadata": {},
   "source": [
    "Generally, because of the randomness in the choice of the update, the randomized perceptron explores more possibilities and this results in the fact that it is able to find a smaller error than the deterministic counterpart"
   ]
  }
 ],
 "metadata": {
  "anaconda-cloud": {},
  "kernelspec": {
   "display_name": "Python 3 (ipykernel)",
   "language": "python",
   "name": "python3"
  },
  "language_info": {
   "codemirror_mode": {
    "name": "ipython",
    "version": 3
   },
   "file_extension": ".py",
   "mimetype": "text/x-python",
   "name": "python",
   "nbconvert_exporter": "python",
   "pygments_lexer": "ipython3",
   "version": "3.12.4"
  }
 },
 "nbformat": 4,
 "nbformat_minor": 4
}
