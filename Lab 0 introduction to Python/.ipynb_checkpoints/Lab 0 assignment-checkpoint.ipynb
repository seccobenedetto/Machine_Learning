{
 "cells": [
  {
   "cell_type": "markdown",
   "metadata": {},
   "source": [
    "# Hands-on exercise\n",
    "\n",
    "In this simple example you are required to perform a simple linear regression with scipy. Find all the information on the function in the documentation: https://docs.scipy.org/doc/scipy/reference/generated/scipy.stats.linregress.html"
   ]
  },
  {
   "cell_type": "markdown",
   "metadata": {},
   "source": [
    "### Assignment\n",
    "\n",
    "1) Load the provided .csv file with the used car data\n",
    "\n",
    "2) Use a linear regression to estimate the car prices from the year, kilometers or engine power. You can make a simple 1D regression from each one of the parameters independently (as an optional task you can also try a 2D or 3D regression combining multiple cues)\n",
    "\n",
    "3) Firstly perform the estimation using the scipy linregress function (or alternatively you can use the sklearn.linear_model.LinearRegression class).\n",
    "NB: check the documentation of the two methods!! In particular be aware of the number of outputs (in case use \"_\" to avoid the return of a specific output).\n",
    "\n",
    "4) Have a look at the correlation coefficient to see which of the 3 features works better\n",
    "\n",
    "5) Then implement the least square algorithm: you should get exactly the same solution of linregress !\n",
    "\n",
    "6) Plot the data and the lines representing the output of the linregress and least square algorithms\n"
   ]
  },
  {
   "cell_type": "code",
   "execution_count": 19,
   "metadata": {},
   "outputs": [],
   "source": [
    "import matplotlib.pyplot as plt\n",
    "import csv\n",
    "from scipy.stats import linregress\n",
    "import numpy as np\n",
    "import sklearn as sl\n",
    "from sklearn import linear_model\n",
    "import pandas as pd"
   ]
  },
  {
   "cell_type": "markdown",
   "metadata": {},
   "source": [
    "1) Load the provided .csv file with the used car data"
   ]
  },
  {
   "cell_type": "code",
   "execution_count": 31,
   "metadata": {},
   "outputs": [
    {
     "data": {
      "text/html": [
       "<div>\n",
       "<style scoped>\n",
       "    .dataframe tbody tr th:only-of-type {\n",
       "        vertical-align: middle;\n",
       "    }\n",
       "\n",
       "    .dataframe tbody tr th {\n",
       "        vertical-align: top;\n",
       "    }\n",
       "\n",
       "    .dataframe thead th {\n",
       "        text-align: right;\n",
       "    }\n",
       "</style>\n",
       "<table border=\"1\" class=\"dataframe\">\n",
       "  <thead>\n",
       "    <tr style=\"text-align: right;\">\n",
       "      <th></th>\n",
       "      <th>km</th>\n",
       "      <th>year</th>\n",
       "      <th>powerPS</th>\n",
       "      <th>avgPrice</th>\n",
       "    </tr>\n",
       "  </thead>\n",
       "  <tbody>\n",
       "    <tr>\n",
       "      <th>0</th>\n",
       "      <td>125000</td>\n",
       "      <td>2001</td>\n",
       "      <td>40</td>\n",
       "      <td>1371.11</td>\n",
       "    </tr>\n",
       "    <tr>\n",
       "      <th>1</th>\n",
       "      <td>150000</td>\n",
       "      <td>2001</td>\n",
       "      <td>40</td>\n",
       "      <td>1298.70</td>\n",
       "    </tr>\n",
       "    <tr>\n",
       "      <th>2</th>\n",
       "      <td>5000</td>\n",
       "      <td>2001</td>\n",
       "      <td>60</td>\n",
       "      <td>1232.43</td>\n",
       "    </tr>\n",
       "    <tr>\n",
       "      <th>3</th>\n",
       "      <td>50000</td>\n",
       "      <td>2001</td>\n",
       "      <td>60</td>\n",
       "      <td>1733.89</td>\n",
       "    </tr>\n",
       "    <tr>\n",
       "      <th>4</th>\n",
       "      <td>60000</td>\n",
       "      <td>2001</td>\n",
       "      <td>60</td>\n",
       "      <td>1985.24</td>\n",
       "    </tr>\n",
       "    <tr>\n",
       "      <th>...</th>\n",
       "      <td>...</td>\n",
       "      <td>...</td>\n",
       "      <td>...</td>\n",
       "      <td>...</td>\n",
       "    </tr>\n",
       "    <tr>\n",
       "      <th>1292</th>\n",
       "      <td>5000</td>\n",
       "      <td>2015</td>\n",
       "      <td>260</td>\n",
       "      <td>45277.18</td>\n",
       "    </tr>\n",
       "    <tr>\n",
       "      <th>1293</th>\n",
       "      <td>10000</td>\n",
       "      <td>2015</td>\n",
       "      <td>260</td>\n",
       "      <td>54156.28</td>\n",
       "    </tr>\n",
       "    <tr>\n",
       "      <th>1294</th>\n",
       "      <td>20000</td>\n",
       "      <td>2015</td>\n",
       "      <td>260</td>\n",
       "      <td>49492.38</td>\n",
       "    </tr>\n",
       "    <tr>\n",
       "      <th>1295</th>\n",
       "      <td>10000</td>\n",
       "      <td>2015</td>\n",
       "      <td>300</td>\n",
       "      <td>38542.69</td>\n",
       "    </tr>\n",
       "    <tr>\n",
       "      <th>1296</th>\n",
       "      <td>20000</td>\n",
       "      <td>2015</td>\n",
       "      <td>300</td>\n",
       "      <td>39683.32</td>\n",
       "    </tr>\n",
       "  </tbody>\n",
       "</table>\n",
       "<p>1297 rows × 4 columns</p>\n",
       "</div>"
      ],
      "text/plain": [
       "          km  year  powerPS  avgPrice\n",
       "0     125000  2001       40   1371.11\n",
       "1     150000  2001       40   1298.70\n",
       "2       5000  2001       60   1232.43\n",
       "3      50000  2001       60   1733.89\n",
       "4      60000  2001       60   1985.24\n",
       "...      ...   ...      ...       ...\n",
       "1292    5000  2015      260  45277.18\n",
       "1293   10000  2015      260  54156.28\n",
       "1294   20000  2015      260  49492.38\n",
       "1295   10000  2015      300  38542.69\n",
       "1296   20000  2015      300  39683.32\n",
       "\n",
       "[1297 rows x 4 columns]"
      ]
     },
     "execution_count": 31,
     "metadata": {},
     "output_type": "execute_result"
    }
   ],
   "source": [
    "# POINT 1:\n",
    "\n",
    "# METHOD A:\n",
    "df = pd.read_csv(\"data/km_year_power_price.csv\")\n",
    "df\n",
    "\n",
    "# # MEHOD B:\n",
    "# # Load the provided data file with the used car data (you can also have a look at it with any text editor)\n",
    "# filename = \"data/km_year_power_price.csv\"\n",
    "# lines = csv.reader(open(filename, newline=''), delimiter=',')"
   ]
  },
  {
   "cell_type": "markdown",
   "metadata": {},
   "source": [
    "2) Use a linear regression to estimate the car prices from the year, kilometers or engine power. You can make a simple 1D regression from each one of the parameters independently (as an optional task you can also try a 2D or 3D regression combining multiple cues)"
   ]
  },
  {
   "cell_type": "code",
   "execution_count": 41,
   "metadata": {},
   "outputs": [
    {
     "name": "stdout",
     "output_type": "stream",
     "text": [
      "Regression km-Price gives: slope -0.05, intercept 16692.35 and corr. coeff. -0.26\n",
      "Regression year-Price gives: slope 1509.09, intercept -3018309.48 and corr. coeff. 0.68\n",
      "Regression powerPS-Price gives: slope 90.33, intercept -1303.91 and corr. coeff. 0.71\n"
     ]
    },
    {
     "data": {
      "image/png": "[encoded data removed]",
      "text/plain": [
       "<Figure size 1400x300 with 3 Axes>"
      ]
     },
     "metadata": {},
     "output_type": "display_data"
    }
   ],
   "source": [
    "fig, axs = plt.subplots(1,3, figsize=(14,3), sharey=True)\n",
    "\n",
    "i=0\n",
    "for col in df.columns:\n",
    "    if col != 'avgPrice':\n",
    "        res = linregress( df[col], df['avgPrice'] )\n",
    "        print(f\"Regression {col}-Price gives: slope {res[0]:.2f}, intercept {res[1]:.2f} and corr. coeff. {res[2]:.2f}\")\n",
    "        axs[i].scatter(df[col], df['avgPrice'], s=1)\n",
    "        axs[i].set_xlabel(f\"{col}\")\n",
    "        i += 1"
   ]
  },
  {
   "cell_type": "markdown",
   "metadata": {},
   "source": [
    "We can see that year and power are the most correlated with prices"
   ]
  }
 ],
 "metadata": {
  "kernelspec": {
   "display_name": "Python 3 (ipykernel)",
   "language": "python",
   "name": "python3"
  },
  "language_info": {
   "codemirror_mode": {
    "name": "ipython",
    "version": 3
   },
   "file_extension": ".py",
   "mimetype": "text/x-python",
   "name": "python",
   "nbconvert_exporter": "python",
   "pygments_lexer": "ipython3",
   "version": "3.12.4"
  }
 },
 "nbformat": 4,
 "nbformat_minor": 4
}
